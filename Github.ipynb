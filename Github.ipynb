{
  "nbformat": 4,
  "nbformat_minor": 0,
  "metadata": {
    "colab": {
      "name": "Github.ipynb",
      "provenance": [],
      "authorship_tag": "ABX9TyMN/nkj6MLlN4aAn7N5vm0Z",
      "include_colab_link": true
    },
    "kernelspec": {
      "name": "python3",
      "display_name": "Python 3"
    },
    "language_info": {
      "name": "python"
    }
  },
  "cells": [
    {
      "cell_type": "markdown",
      "metadata": {
        "id": "view-in-github",
        "colab_type": "text"
      },
      "source": [
        "<a href=\"https://colab.research.google.com/github/riyaz2022/Data-Structures-and-Alogrithms/blob/main/Github.ipynb\" target=\"_parent\"><img src=\"https://colab.research.google.com/assets/colab-badge.svg\" alt=\"Open In Colab\"/></a>"
      ]
    },
    {
      "cell_type": "markdown",
      "source": [
        "Connect Ropes"
      ],
      "metadata": {
        "id": "7OvmCp5Y7x_m"
      }
    },
    {
      "cell_type": "code",
      "source": [
        "#Connect Ropes\n",
        "'''\n",
        "Problem Statement \n",
        "Given ‘N’ ropes with different lengths, we need to connect these ropes into one big rope with minimum cost. \n",
        "The cost of connecting two ropes is equal to the sum of their lengths.\n",
        "Example 1:\n",
        "Input: [1, 3, 11, 5]\n",
        "Output: 33\n",
        "Explanation: First connect 1+3(=4), then 4+5(=9), and then 9+11(=20). So the total cost is 33 (4+9+20)\n",
        "Example 2:\n",
        "Input: [3, 4, 5, 6]\n",
        "Output: 36\n",
        "Explanation: First connect 3+4(=7), then 5+6(=11), 7+11(=18). Total cost is 36 (7+11+18)\n",
        "Example 3:\n",
        "Input: [1, 3, 11, 5, 2]\n",
        "Output: 42\n",
        "Explanation: First connect 1+2(=3), then 3+3(=6), 6+5(=11), 11+11(=22). Total cost is 42 (3+6+11+22)\n",
        "'''\n",
        "#Answer\n",
        "'''\n",
        "This question is a perfect example of how heap data structure can be utilized in solving a question that requires greedy approach\n",
        "In this case, everytime you have to add the smallest two numbers.You can even do this question using a auxillary array that will store all the prefix sums\n",
        "but here we will be utilizing an heap to do so \n",
        "'''\n",
        "#Algorithm\n",
        "'''\n",
        "1.Make a min heap\n",
        "2.Push all the elements in the heap\n",
        "3.Remove top two elements from the heap and store its sum in another variable\n",
        "4.Push this sum again in the heap\n",
        "5.Continue till heap is empty\n",
        "'''\n",
        "from heapq import *\n",
        "def connectRopes(ropeLengths):\n",
        "    minHeap = []\n",
        "    for length in ropeLengths: #push all the lengths in heap\n",
        "        heappush(minHeap, length)\n",
        "    \n",
        "    finalLength = 0\n",
        "    while len(minHeap) > 1:\n",
        "        temp = heappop(minHeap) + heappop(minHeap) #pop the first two elements\n",
        "        finalLength += temp #Calculate its sum and store in another variable \n",
        "        heappush(minHeap, temp) #Push the current sum again in heap for further calculations\n",
        "    return finalLength\n",
        "\n",
        "#Time Complexity\n",
        "'''\n",
        "Inserting all the elements inside a heap will take O(NlogN)\n",
        "Removing top two elements and again push in heap will take a maximum of O(NlogN) time\n",
        "So overall time complexity is O(NlogN)\n",
        "'''\n",
        "#Space Complexity\n",
        "'''\n",
        "minHeap will require a space of O(N)\n",
        "'''"
      ],
      "metadata": {
        "id": "e13dAjKb74Vg"
      },
      "execution_count": null,
      "outputs": []
    }
  ]
}