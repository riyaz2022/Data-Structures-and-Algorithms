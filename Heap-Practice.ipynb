{
  "nbformat": 4,
  "nbformat_minor": 0,
  "metadata": {
    "colab": {
      "name": "Github.ipynb",
      "provenance": [],
      "authorship_tag": "ABX9TyNyXmks+c0qzoxwjipRwoWC",
      "include_colab_link": true
    },
    "kernelspec": {
      "name": "python3",
      "display_name": "Python 3"
    },
    "language_info": {
      "name": "python"
    }
  },
  "cells": [
    {
      "cell_type": "markdown",
      "metadata": {
        "id": "view-in-github",
        "colab_type": "text"
      },
      "source": [
        "<a href=\"https://colab.research.google.com/github/riyaz2022/Data-Structures-and-Algorithms/blob/main/Heap-Practice.ipynb\" target=\"_parent\"><img src=\"https://colab.research.google.com/assets/colab-badge.svg\" alt=\"Open In Colab\"/></a>"
      ]
    },
    {
      "cell_type": "markdown",
      "source": [
        "Connect Ropes"
      ],
      "metadata": {
        "id": "7OvmCp5Y7x_m"
      }
    },
    {
      "cell_type": "code",
      "source": [
        "#CONNECT ROPES\n",
        "'''\n",
        "Problem Statement \n",
        "Given ‘N’ ropes with different lengths, we need to connect these ropes into one big rope with minimum cost. \n",
        "The cost of connecting two ropes is equal to the sum of their lengths.\n",
        "Example 1:\n",
        "Input: [1, 3, 11, 5]\n",
        "Output: 33\n",
        "Explanation: First connect 1+3(=4), then 4+5(=9), and then 9+11(=20). So the total cost is 33 (4+9+20)\n",
        "Example 2:\n",
        "Input: [3, 4, 5, 6]\n",
        "Output: 36\n",
        "Explanation: First connect 3+4(=7), then 5+6(=11), 7+11(=18). Total cost is 36 (7+11+18)\n",
        "Example 3:\n",
        "Input: [1, 3, 11, 5, 2]\n",
        "Output: 42\n",
        "Explanation: First connect 1+2(=3), then 3+3(=6), 6+5(=11), 11+11(=22). Total cost is 42 (3+6+11+22)\n",
        "'''\n",
        "#ANSWER\n",
        "'''\n",
        "This question is a perfect example of how heap data structure can be utilized in solving a question that requires greedy approach\n",
        "In this case, everytime you have to add the smallest two numbers.You can even do this question using a auxillary array that will store all the prefix sums\n",
        "but here we will be utilizing an heap to do so \n",
        "'''\n",
        "#Algorithm\n",
        "'''\n",
        "1.Make a min heap\n",
        "2.Push all the elements in the heap\n",
        "3.Remove top two elements from the heap and store its sum in another variable\n",
        "4.Push this sum again in the heap\n",
        "5.Continue till heap is empty\n",
        "'''\n",
        "from heapq import *\n",
        "def connectRopes(ropeLengths):\n",
        "    minHeap = []\n",
        "    for length in ropeLengths: #push all the lengths in heap\n",
        "        heappush(minHeap, length)\n",
        "    \n",
        "    finalLength = 0\n",
        "    while len(minHeap) > 1:\n",
        "        temp = heappop(minHeap) + heappop(minHeap) #pop the first two elements\n",
        "        finalLength += temp #Calculate its sum and store in another variable \n",
        "        heappush(minHeap, temp) #Push the current sum again in heap for further calculations\n",
        "    return finalLength\n",
        "\n",
        "#Time Complexity\n",
        "'''\n",
        "Inserting all the elements inside a heap will take O(NlogN)\n",
        "Removing top two elements and again push in heap will take a maximum of O(NlogN) time\n",
        "So overall time complexity is O(NlogN)\n",
        "'''\n",
        "#Space Complexity\n",
        "'''\n",
        "minHeap will require a space of O(N)\n",
        "'''"
      ],
      "metadata": {
        "id": "e13dAjKb74Vg"
      },
      "execution_count": null,
      "outputs": []
    },
    {
      "cell_type": "markdown",
      "source": [
        "'K' CLOSEST NUMBERS"
      ],
      "metadata": {
        "id": "brkcZNymmT2z"
      }
    },
    {
      "cell_type": "code",
      "source": [
        "#K Closest Numbers\n",
        "'''\n",
        "Problem Statement \n",
        "Given a sorted number array and two integers ‘K’ and ‘X’, find ‘K’ closest numbers to ‘X’ in the array. \n",
        "Return the numbers in the sorted order. ‘X’ is not necessarily present in the array.\n",
        "Example 1:\n",
        "Input: [5, 6, 7, 8, 9], K = 3, X = 7\n",
        "Output: [6, 7, 8]\n",
        "Example 2:\n",
        "Input: [2, 4, 5, 6, 9], K = 3, X = 6\n",
        "Output: [4, 5, 6]\n",
        "Example 3:\n",
        "Input: [2, 4, 5, 6, 9], K = 3, X = 10\n",
        "Output: [5, 6, 9]\n",
        "'''\n",
        "#Answer\n",
        "'''\n",
        "For finding the closest numbers to X we can simple calculate the absolute difference between X and \n",
        "all the values from the array.Now we store these values in a pair using tuple (abs diff, value) with the abs difference\n",
        "along with the value itself\n",
        "So, for example, [5, 6, 7, 8, 9], K = 3, X = 7\n",
        "the tuple values would be (2,5), (1,6), (0,7), (1,8), (2,9)\n",
        "So the value the first value in the tuple, the closest the element is from X \n",
        "Now we want the top k(3) values from this tuple that are closest to X(7)\n",
        "Now we can utilize the heap data structure to do so\n",
        "We can use min heap which will store the tuples in smallest to greatest values\n",
        "So the heap will look like\n",
        "\n",
        "                (0,7)\n",
        "               /     \\\n",
        "             (1,6)   (1,8)\n",
        "            /    \\\n",
        "          (2,5)  (2,9)     \n",
        "Now we can easily remove the top K elements from this heap which will give the closest numbers\n",
        "Look at the below code for more clarity\n",
        "\n",
        "'''\n",
        "#Code\n",
        "from heapq import *\n",
        "def findClosestElements(A,K,X):\n",
        "    answer = []\n",
        "\n",
        "    minHeap1 = []\n",
        "    for num in A:\n",
        "        heappush(minHeap1, (abs(num-X),num)) #Creates a min heap with tuple values as discussed\n",
        "\n",
        "    minHeap2 = [] #Remove the top K elements from minHeap1 and store in minHeap2 as we have to maintain order\n",
        "    n = K\n",
        "    while n > 0:\n",
        "        a = heappop(minHeap1)\n",
        "        heappush(minHeap2, a[1]) #Append top K elements values from the minHeap1 and store the second value \n",
        "        n -= 1                   # from the tuple i.e (0,7) --> 7 as '7' is the actual element\n",
        "\n",
        "    while minHeap2:\n",
        "        b = heappop(minHeap2) #Remove all the elements from the minHeap2 one by one and store them in answer \n",
        "        answer.append(b)\n",
        "    \n",
        "    return answer \n",
        "    \n",
        "#Time Complexity\n",
        "'''\n",
        "The first step of creating minHeap1 will take O(N)\n",
        "Creating minHeap2 will take O(KlogK)\n",
        "So overall time complexity is O(KLogK)\n",
        "'''\n",
        "\n",
        "#Space Complexity\n",
        "'''\n",
        "O(N) for storing N elements in heap\n",
        "'''\n",
        "\n"
      ],
      "metadata": {
        "id": "SmcjpWg2mW61"
      },
      "execution_count": null,
      "outputs": []
    },
    {
      "cell_type": "markdown",
      "source": [
        "MAXIMUM DISTINCT ELEMENTS"
      ],
      "metadata": {
        "id": "Cq9XRIxV2ymt"
      }
    },
    {
      "cell_type": "code",
      "source": [
        "#Maximum distinct elements\n",
        "'''\n",
        "Problem Statement \n",
        "Given an array of numbers and a number ‘K’, we need to remove ‘K’ numbers from the array such that we are left with maximum distinct numbers.\n",
        "Example 1:\n",
        "Input: [7, 3, 5, 8, 5, 3, 3], and K=2\n",
        "Output: 3\n",
        "Explanation: We can remove two occurrences of 3 to be left with 3 distinct numbers [7, 3, 8], we have \n",
        "to skip 5 because it is not distinct and occurred twice. \n",
        "Another solution could be to remove one instance of '5' and '3' each to be left with three \n",
        "distinct numbers [7, 5, 8], in this case, we have to skip 3 because it occurred twice.\n",
        "Example 2:\n",
        "Input: [3, 5, 12, 11, 12], and K=3\n",
        "Output: 2\n",
        "Explanation: We can remove one occurrence of 12, after which all numbers will become distinct. Then \n",
        "we can delete any two numbers which will leave us 2 distinct numbers in the result.\n",
        "Example 3:\n",
        "Input: [1, 2, 3, 3, 3, 3, 4, 4, 5, 5, 5], and K=2\n",
        "Output: 3\n",
        "Explanation: We can remove one occurrence of '4' to get three distinct numbers.\n",
        "'''\n",
        "#Answer\n",
        "'''\n",
        "\n",
        "'''"
      ],
      "metadata": {
        "id": "J7IsHg8n23K2"
      },
      "execution_count": null,
      "outputs": []
    },
    {
      "cell_type": "markdown",
      "source": [
        "REMOVE STONES TO MINIMIZE THE TOTAL"
      ],
      "metadata": {
        "id": "A-7yel0fjvLi"
      }
    },
    {
      "cell_type": "code",
      "source": [
        "#Remove stones to minimize the total\n",
        "#Problem Statement\n",
        "'''\n",
        "You are given a 0-indexed integer array piles, where piles[i] represents the number of stones in the ith pile, and an integer k. You should apply the following operation exactly k times:\n",
        "\n",
        "Choose any piles[i] and remove floor(piles[i] / 2) stones from it.\n",
        "Notice that you can apply the operation on the same pile more than once.\n",
        "\n",
        "Return the minimum possible total number of stones remaining after applying the k operations.\n",
        "\n",
        "floor(x) is the greatest integer that is smaller than or equal to x (i.e., rounds x down).\n",
        "'''\n",
        "'''\n",
        "Example 1:\n",
        "\n",
        "Input: piles = [5,4,9], k = 2\n",
        "Output: 12\n",
        "Explanation: Steps of a possible scenario are:\n",
        "- Apply the operation on pile 2. The resulting piles are [5,4,5].\n",
        "- Apply the operation on pile 0. The resulting piles are [3,4,5].\n",
        "The total number of stones in [3,4,5] is 12.\n",
        "Example 2:\n",
        "\n",
        "Input: piles = [4,3,6,7], k = 3\n",
        "Output: 12\n",
        "Explanation: Steps of a possible scenario are:\n",
        "- Apply the operation on pile 2. The resulting piles are [4,3,3,7].\n",
        "- Apply the operation on pile 3. The resulting piles are [4,3,3,4].\n",
        "- Apply the operation on pile 0. The resulting piles are [2,3,3,4].\n",
        "The total number of stones in [2,3,3,4] is 12.\n",
        "'''\n",
        "#Answer\n",
        "'''\n",
        "Everytime you want the maximum value from the pile to be divided.So we will use a maxheap to store the elements in \n",
        "greatest to least order and after dividing we push the resultant value again inside the heap\n",
        "'''\n",
        "#Code\n",
        "from heapq import *\n",
        "class Solution:\n",
        "    def minStoneSum(self, piles: List[int], k: int) -> int:\n",
        "        maxHeap = []\n",
        "        for i in range(len(piles)):\n",
        "            heappush(maxHeap, -piles[i])\n",
        "            \n",
        "        i = k\n",
        "        while i > 0:\n",
        "            temp = heappop(maxHeap)\n",
        "            x = floor(temp/2)\n",
        "            heappush(maxHeap,x)\n",
        "            i -= 1\n",
        "        return -sum(maxHeap)\n",
        "\n",
        "#Time Complexity\n",
        "'''\n",
        "O(KLogN)\n",
        "'''\n",
        "\n",
        "#Space Complexity\n",
        "'''\n",
        "O(N) for storing N elements in heap\n",
        "'''"
      ],
      "metadata": {
        "id": "03-uOnLYjzU3"
      },
      "execution_count": null,
      "outputs": []
    },
    {
      "cell_type": "code",
      "source": [
        ""
      ],
      "metadata": {
        "id": "ilEbzrBwl2D-"
      },
      "execution_count": null,
      "outputs": []
    }
  ]
}